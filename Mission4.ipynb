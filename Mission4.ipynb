{
 "cells": [
  {
   "cell_type": "code",
   "execution_count": 8,
   "metadata": {},
   "outputs": [
    {
     "name": "stdout",
     "output_type": "stream",
     "text": [
      "{'string': 'This is mission 4', 'number': 56789, 'obj': {'one': 'jojo', 'two': 'lee'}, 'array': [1, 2, 3, 4, 'a', 'b', 'c', 'd']}\n",
      "{'string': 'Still mission 4', 'number': 10111213, 'obj': {'one': 'abc', 'two': 'def'}, 'array': [5, 6, 7, 8, 'e', 'f', 'g', 'H']}\n"
     ]
    }
   ],
   "source": [
    "\"\"\"\n",
    "創建一個檔案，裡面塞入一個json object， object裡面需要有四個欄位，分別對應到 string, number, object, array。\n",
    "讀取該檔案做操作，將四個欄位進行內容修改，存回原檔案\n",
    "\"\"\"\n",
    "# 引用 json 套件\n",
    "import json\n",
    "from pprint import pprint\n",
    "\n",
    "# 創立檔案名稱\n",
    "fileName = \"mission4.json\"\n",
    "\n",
    "# 建立 json 物件\n",
    "jsondata = { \"string\":\"This is mission 4\" , \"number\":56789 , \"obj\": { \"one\":\"jojo\", \"two\":\"lee\"}, \"array\":[1,2,3,4,'a','b','c','d'] }\n",
    "\n",
    "# 寫入檔案\n",
    "writeFile = open( fileName, 'w')\n",
    "writeFile.write(json.dumps(jsondata))\n",
    "writeFile.close()\n",
    "print(jsondata)\n",
    "\n",
    "# 讀取 json檔案\n",
    "readFile = open( fileName, 'r')\n",
    "jsonObject = json.load(readFile)\n",
    "readFile.close()\n",
    "\n",
    "# 修改欄位內容\n",
    "jsonObject[\"string\"] = \"Still mission 4\"\n",
    "jsonObject[\"number\"] = 10111213\n",
    "jsonObject[\"obj\"] = { \"one\":\"abc\", \"two\":\"def\" }\n",
    "jsonObject[\"array\"] = [5,6,7,8,\"e\",\"f\",\"g\",\"H\"]\n",
    "print(jsonObject)\n",
    "\n",
    "# 回寫至檔案\n",
    "rewriteFile = open( fileName, 'w')\n",
    "rewriteFile.write( json.dumps(jsonObject))\n",
    "rewriteFile.close()"
   ]
  },
  {
   "cell_type": "code",
   "execution_count": null,
   "metadata": {},
   "outputs": [],
   "source": []
  }
 ],
 "metadata": {
  "kernelspec": {
   "display_name": "Python 3",
   "language": "python",
   "name": "python3"
  },
  "language_info": {
   "codemirror_mode": {
    "name": "ipython",
    "version": 3
   },
   "file_extension": ".py",
   "mimetype": "text/x-python",
   "name": "python",
   "nbconvert_exporter": "python",
   "pygments_lexer": "ipython3",
   "version": "3.7.0"
  }
 },
 "nbformat": 4,
 "nbformat_minor": 2
}
