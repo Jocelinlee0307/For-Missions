{
 "cells": [
  {
   "cell_type": "code",
   "execution_count": null,
   "metadata": {},
   "outputs": [
    {
     "name": "stdout",
     "output_type": "stream",
     "text": [
      " * Serving Flask app \"__main__\" (lazy loading)\n",
      " * Environment: production\n",
      "   WARNING: Do not use the development server in a production environment.\n",
      "   Use a production WSGI server instead.\n",
      " * Debug mode: off\n"
     ]
    },
    {
     "name": "stderr",
     "output_type": "stream",
     "text": [
      " * Running on http://0.0.0.0:5000/ (Press CTRL+C to quit)\n",
      "127.0.0.1 - - [14/Jan/2019 20:16:03] \"GET / HTTP/1.1\" 404 -\n",
      "127.0.0.1 - - [14/Jan/2019 20:16:33] \"GET /user?id=cc10423 HTTP/1.1\" 200 -\n",
      "127.0.0.1 - - [14/Jan/2019 20:16:33] \"GET /favicon.ico HTTP/1.1\" 404 -\n"
     ]
    }
   ],
   "source": [
    "\"\"\"\n",
    "撰寫一個Flask Server， 設計一個端口為user，用戶能對此端口用GET方法訪問，\n",
    "並且挾帶query string，id=xxx。若用戶傳入 id=123，則傳回json {\"userId\":123}\n",
    "\n",
    "\"\"\"\n",
    "#引用套件\n",
    "from flask import Flask, request, abort, jsonify\n",
    "\n",
    "#為app準備啟動點\n",
    "app = Flask(__name__,static_url_path = \"/images\" , static_folder = \"./images/\" )\n",
    "\n",
    "#為app開一個啟動端口/\n",
    "@app.route('/user',methods=['GET'])\n",
    "def data():\n",
    "    #做一個query string\n",
    "    #ex:192.168.114.10:5000?hello=123456\n",
    "    t = request.args.get('id')\n",
    "    #轉成Dict\n",
    "    jsonDict = {'userId':t}\n",
    "    #將Dict轉成jason\n",
    "    return jsonify(jsonDict)\n",
    "\n",
    "#啟動app\n",
    "if __name__ == \"__main__\":\n",
    "    app.run(host='0.0.0.0',port='5000')"
   ]
  },
  {
   "cell_type": "code",
   "execution_count": null,
   "metadata": {},
   "outputs": [],
   "source": []
  }
 ],
 "metadata": {
  "kernelspec": {
   "display_name": "Python 3",
   "language": "python",
   "name": "python3"
  },
  "language_info": {
   "codemirror_mode": {
    "name": "ipython",
    "version": 3
   },
   "file_extension": ".py",
   "mimetype": "text/x-python",
   "name": "python",
   "nbconvert_exporter": "python",
   "pygments_lexer": "ipython3",
   "version": "3.7.0"
  }
 },
 "nbformat": 4,
 "nbformat_minor": 2
}
