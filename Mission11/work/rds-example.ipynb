{
 "cells": [
  {
   "cell_type": "code",
   "execution_count": null,
   "metadata": {},
   "outputs": [],
   "source": [
    "\"\"\"\n",
    "開啟一個rds-example.ipynb，\n",
    "並嘗試使用PyMySQL套件連結至mysql進行創建資料庫，資料表，插入資料，查詢資料\n",
    "\"\"\"\n",
    "\n",
    "#導入套件\n",
    "import pymysql\n",
    "\n",
    "#與db建立連線\n",
    "#可縮寫db = pymysql.connect(\"localhost\",\"root\",\"root\",\"30days\" )\n",
    "db = pymysql.connect(host='mysql_test', port=3306, user='root', passwd='cc10423', charset='utf8')\n",
    "\n",
    "#建立操作游標\n",
    "cursor = db.cursor()\n",
    "\n",
    "#創建資料庫\n",
    "#cursor.execute( \"CREATE database test2323\" )\n",
    "cursor.execute( \"use test2323\" )\n",
    "\n",
    "#使用預處理语句創建表\n",
    "#NOT NULL不接受 NULL值\n",
    "sql = \"\"\"CREATE TABLE JOJOLEE (\n",
    "   FIRST_NAME  CHAR(20) NOT NULL,\n",
    "   LAST_NAME  CHAR(20),\n",
    "   AGE INT,  \n",
    "   SEX CHAR(1),\n",
    "   INCOME FLOAT )\"\"\"\n",
    "\n",
    "#插入資料\n",
    "sql = \"\"\"INSERT INTO JOJOLEE(FIRST_NAME,\n",
    "   LAST_NAME, AGE, SEX, INCOME)\n",
    "   VALUES ('Mac', 'Mohan', 20, 'M', 2000)\"\"\"\n",
    "\n",
    "#執行SQL語句\n",
    "cursor.execute(sql)\n",
    "\n",
    "try:\n",
    "   # Execute the SQL command\n",
    "   cursor.execute(sql)\n",
    "   # Commit your changes in the database\n",
    "   db.commit()\n",
    "except:\n",
    "   # Rollback in case there is any error\n",
    "   db.rollback()\n",
    "    \n",
    "#查詢資料\n",
    "cursor.execute( \"SELECT FIRST_NAME FROM JOJOLEE\")\n",
    "\n",
    "#關閉資料庫連線\n",
    "db.close()"
   ]
  }
 ],
 "metadata": {
  "kernelspec": {
   "display_name": "Python 3",
   "language": "python",
   "name": "python3"
  },
  "language_info": {
   "codemirror_mode": {
    "name": "ipython",
    "version": 3
   },
   "file_extension": ".py",
   "mimetype": "text/x-python",
   "name": "python",
   "nbconvert_exporter": "python",
   "pygments_lexer": "ipython3",
   "version": "3.7.1"
  }
 },
 "nbformat": 4,
 "nbformat_minor": 2
}
