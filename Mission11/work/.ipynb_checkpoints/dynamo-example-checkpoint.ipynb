{
 "cells": [
  {
   "cell_type": "code",
   "execution_count": 10,
   "metadata": {},
   "outputs": [
    {
     "name": "stdout",
     "output_type": "stream",
     "text": [
      "0\n"
     ]
    }
   ],
   "source": [
    "#引用套件\n",
    "import boto3\n",
    "\n",
    "#建立local dynamodb連線\n",
    "#Get the service resource.\n",
    "dynamodb = boto3.resource('dynamodb', endpoint_url=\"http://cc104.dynamodb.local:8000\" )\n",
    "\n",
    "#關閉重啟後須執行此兩段才能再執行\n",
    "#或是要重新執行這個執行緒\n",
    "BBB = dynamodb.Table('jojolee')\n",
    "\n",
    "BBB.delete()\n",
    "\n",
    "#建立資料表\n",
    "table = dynamodb.create_table(\n",
    "    #資料表名稱\n",
    "    TableName='jojolee',\n",
    "    #用於主索引鍵的屬性\n",
    "    KeySchema=[\n",
    "        {\n",
    "            'AttributeName': 'username',\n",
    "            'KeyType': 'HASH' #主Key\n",
    "        },\n",
    "        {\n",
    "            'AttributeName': 'last_name',\n",
    "            'KeyType': 'RANGE' #sortkey\n",
    "        }\n",
    "    ],\n",
    "    # 索引鍵結構描述屬性的資料類型\n",
    "    AttributeDefinitions=[\n",
    "        {\n",
    "            'AttributeName': 'username',\n",
    "            'AttributeType': 'S'\n",
    "        },\n",
    "        {\n",
    "            'AttributeName': 'last_name',\n",
    "            'AttributeType': 'S'\n",
    "        },\n",
    "\n",
    "    ],\n",
    "    # 讀寫能力單元 (Capacity Units) 設定\n",
    "    ProvisionedThroughput={\n",
    "        'ReadCapacityUnits': 5,\n",
    "        'WriteCapacityUnits': 5\n",
    "    }\n",
    ")\n",
    "\n",
    "\n",
    "# Wait until the table exists.\n",
    "table.meta.client.get_waiter('table_exists').wait(TableName='jojolee')\n",
    "\n",
    "# 印出有幾個item.\n",
    "print(table.item_count)"
   ]
  },
  {
   "cell_type": "code",
   "execution_count": 11,
   "metadata": {},
   "outputs": [
    {
     "name": "stdout",
     "output_type": "stream",
     "text": [
      "2019-01-31 12:23:53.410000+00:00\n"
     ]
    }
   ],
   "source": [
    "#使用現有的table\n",
    "table = dynamodb.Table('jojolee')\n",
    "\n",
    "#資料庫創建時間\n",
    "print(table.creation_date_time)"
   ]
  },
  {
   "cell_type": "code",
   "execution_count": 12,
   "metadata": {},
   "outputs": [
    {
     "data": {
      "text/plain": [
       "{'ResponseMetadata': {'RequestId': '1c0ab036-4049-4880-9d3a-f059d11292a5',\n",
       "  'HTTPStatusCode': 200,\n",
       "  'HTTPHeaders': {'content-type': 'application/x-amz-json-1.0',\n",
       "   'x-amz-crc32': '2745614147',\n",
       "   'x-amzn-requestid': '1c0ab036-4049-4880-9d3a-f059d11292a5',\n",
       "   'content-length': '2',\n",
       "   'server': 'Jetty(8.1.12.v20130726)'},\n",
       "  'RetryAttempts': 0}}"
      ]
     },
     "execution_count": 12,
     "metadata": {},
     "output_type": "execute_result"
    }
   ],
   "source": [
    "#建立新資料\n",
    "table.put_item(\n",
    "   Item={\n",
    "        'username': 'jocelinlee',\n",
    "        'first_name': 'Jocelin',\n",
    "        'last_name': 'Lee',\n",
    "        'age': 17,\n",
    "        'account_type': 'standard_user',\n",
    "    }\n",
    ")"
   ]
  },
  {
   "cell_type": "code",
   "execution_count": 13,
   "metadata": {},
   "outputs": [
    {
     "name": "stdout",
     "output_type": "stream",
     "text": [
      "1\n"
     ]
    }
   ],
   "source": [
    "print(table.item_count)"
   ]
  },
  {
   "cell_type": "code",
   "execution_count": 15,
   "metadata": {},
   "outputs": [
    {
     "name": "stdout",
     "output_type": "stream",
     "text": [
      "{'last_name': 'Lee', 'account_type': 'standard_user', 'first_name': 'Jocelin', 'age': Decimal('17'), 'username': 'jocelinlee'}\n"
     ]
    }
   ],
   "source": [
    "#查詢資料\n",
    "response = table.get_item(\n",
    "    Key={\n",
    "        'username': 'jocelinlee',\n",
    "        'last_name': 'Lee'\n",
    "    }\n",
    ")\n",
    "item = response['Item']\n",
    "print(item)"
   ]
  },
  {
   "cell_type": "code",
   "execution_count": 16,
   "metadata": {},
   "outputs": [
    {
     "data": {
      "text/plain": [
       "{'ResponseMetadata': {'RequestId': '314e8cbc-6078-48bd-9131-ddc1922b281f',\n",
       "  'HTTPStatusCode': 200,\n",
       "  'HTTPHeaders': {'content-type': 'application/x-amz-json-1.0',\n",
       "   'x-amz-crc32': '2745614147',\n",
       "   'x-amzn-requestid': '314e8cbc-6078-48bd-9131-ddc1922b281f',\n",
       "   'content-length': '2',\n",
       "   'server': 'Jetty(8.1.12.v20130726)'},\n",
       "  'RetryAttempts': 0}}"
      ]
     },
     "execution_count": 16,
     "metadata": {},
     "output_type": "execute_result"
    }
   ],
   "source": [
    "#繼續增加內容\n",
    "table.put_item(\n",
    "   Item={\n",
    "        'username': 'gwenwu',\n",
    "        'first_name': 'Wu',\n",
    "        'last_name': 'gwen',\n",
    "        'age': 18,\n",
    "        'account_type': 'standard_user',\n",
    "    }\n",
    ")"
   ]
  },
  {
   "cell_type": "code",
   "execution_count": 17,
   "metadata": {},
   "outputs": [
    {
     "name": "stdout",
     "output_type": "stream",
     "text": [
      "2\n"
     ]
    }
   ],
   "source": [
    "print(table.item_count)"
   ]
  },
  {
   "cell_type": "code",
   "execution_count": 18,
   "metadata": {},
   "outputs": [
    {
     "name": "stdout",
     "output_type": "stream",
     "text": [
      "3\n"
     ]
    }
   ],
   "source": [
    "#繼續增加內容\n",
    "table.put_item(\n",
    "   Item={\n",
    "        'username': 'deleteone',\n",
    "        'first_name': 'one',\n",
    "        'last_name': 'delete',\n",
    "        'age': 99,\n",
    "        'account_type': 'standard_user',\n",
    "    }\n",
    ")\n",
    "print(table.item_count)"
   ]
  },
  {
   "cell_type": "code",
   "execution_count": 19,
   "metadata": {},
   "outputs": [
    {
     "name": "stdout",
     "output_type": "stream",
     "text": [
      "2\n"
     ]
    }
   ],
   "source": [
    "#刪除資料\n",
    "table.delete_item(\n",
    "    Key={\n",
    "        'username': 'deleteone',\n",
    "        'last_name': 'delete'\n",
    "    }\n",
    ")\n",
    "print(table.item_count)"
   ]
  },
  {
   "cell_type": "code",
   "execution_count": null,
   "metadata": {},
   "outputs": [],
   "source": []
  }
 ],
 "metadata": {
  "kernelspec": {
   "display_name": "Python 3",
   "language": "python",
   "name": "python3"
  },
  "language_info": {
   "codemirror_mode": {
    "name": "ipython",
    "version": 3
   },
   "file_extension": ".py",
   "mimetype": "text/x-python",
   "name": "python",
   "nbconvert_exporter": "python",
   "pygments_lexer": "ipython3",
   "version": "3.7.1"
  }
 },
 "nbformat": 4,
 "nbformat_minor": 2
}
