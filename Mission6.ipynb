{
 "cells": [
  {
   "cell_type": "code",
   "execution_count": null,
   "metadata": {},
   "outputs": [
    {
     "name": "stdout",
     "output_type": "stream",
     "text": [
      " * Serving Flask app \"__main__\" (lazy loading)\n",
      " * Environment: production\n",
      "   WARNING: Do not use the development server in a production environment.\n",
      "   Use a production WSGI server instead.\n",
      " * Debug mode: off\n"
     ]
    },
    {
     "name": "stderr",
     "output_type": "stream",
     "text": [
      " * Running on http://0.0.0.0:5000/ (Press CTRL+C to quit)\n",
      "127.0.0.1 - - [11/Jan/2019 20:19:18] \"GET / HTTP/1.1\" 404 -\n",
      "127.0.0.1 - - [11/Jan/2019 20:19:24] \"GET /favicon.ico HTTP/1.1\" 404 -\n",
      "127.0.0.1 - - [11/Jan/2019 20:19:30] \"GET /user HTTP/1.1\" 200 -\n"
     ]
    }
   ],
   "source": [
    "\"\"\"\n",
    "撰寫一個Flask Server， 設計一個端口為user，用戶能對此端口用get方法訪問，傳回\n",
    "\n",
    "{\"userId\":1,\"userName\":\"xiaoming\"}\n",
    "\n",
    "\"\"\"\n",
    "\n",
    "#引用flask套件\n",
    "from flask import Flask, request, jsonify\n",
    "app = Flask(__name__,static_url_path = \"/images\" , static_folder = \"./images/\" )\n",
    "\n",
    "#準備Flask的app啟動點，開啟user端口\n",
    "@app.route('/user',methods=['GET'])\n",
    "    \n",
    "#相應方法\n",
    "def userid():\n",
    "    #回傳指定回應\n",
    "    value = {\"userId\":1,\"userName\":\"xiaoming\"}\n",
    "    return jsonify(value)\n",
    "\n",
    "if __name__ == \"__main__\":\n",
    "    \n",
    "#啟動app\n",
    "    app.run(host='0.0.0.0',port='5000')"
   ]
  },
  {
   "cell_type": "code",
   "execution_count": null,
   "metadata": {},
   "outputs": [],
   "source": []
  }
 ],
 "metadata": {
  "kernelspec": {
   "display_name": "Python 3",
   "language": "python",
   "name": "python3"
  },
  "language_info": {
   "codemirror_mode": {
    "name": "ipython",
    "version": 3
   },
   "file_extension": ".py",
   "mimetype": "text/x-python",
   "name": "python",
   "nbconvert_exporter": "python",
   "pygments_lexer": "ipython3",
   "version": "3.7.0"
  }
 },
 "nbformat": 4,
 "nbformat_minor": 2
}
